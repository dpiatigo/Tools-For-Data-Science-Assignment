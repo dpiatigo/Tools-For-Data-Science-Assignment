{
 "cells": [
  {
   "cell_type": "markdown",
   "id": "9017f69a",
   "metadata": {},
   "source": [
    "# Data Science Tools and Ecosystem #"
   ]
  },
  {
   "cell_type": "markdown",
   "id": "4d82b633",
   "metadata": {},
   "source": [
    "In this notebook, Data Science Tools and Ecosystem are summarized."
   ]
  },
  {
   "cell_type": "markdown",
   "id": "57ba8fdc",
   "metadata": {},
   "source": [
    "**Objectives:**\n",
    "* Popular Langauges\n",
    "* Popular Libraries\n",
    "* Popular Tools\n",
    "* Arithmetic Expressions\n",
    "* Time Conversion"
   ]
  },
  {
   "cell_type": "markdown",
   "id": "d8bf8c90",
   "metadata": {},
   "source": [
    "Some of the popular langauges that data scientists use are:\n",
    "\n",
    "1. Python \n",
    "2. R\n",
    "3. C++\n",
    "4. C\n",
    "5. Julia"
   ]
  },
  {
   "cell_type": "markdown",
   "id": "b426d6ec",
   "metadata": {},
   "source": [
    "Some of the commonly used libraries used by Data Scientists include:\n",
    "1. Pandas\n",
    "2. NumPy\n",
    "3. Matplotlib\n",
    "4. SciPy\n"
   ]
  },
  {
   "cell_type": "markdown",
   "id": "1fbc4140",
   "metadata": {},
   "source": [
    "|Data Science Tools|\n",
    "|---|\n",
    "|RStudio|\n",
    "|TensorFlow|\n",
    "|GitHub|\n",
    "|Jupyter Notebooks|"
   ]
  },
  {
   "cell_type": "markdown",
   "id": "b334492c",
   "metadata": {},
   "source": [
    "### Below are a few examples of evaluation arithimetic expressions in Python ###"
   ]
  },
  {
   "cell_type": "code",
   "execution_count": 1,
   "id": "c050f20c",
   "metadata": {},
   "outputs": [
    {
     "data": {
      "text/plain": [
       "17"
      ]
     },
     "execution_count": 1,
     "metadata": {},
     "output_type": "execute_result"
    }
   ],
   "source": [
    "#This is a simple arithmetic expression to multiply then add integers\n",
    "(3*4)+5"
   ]
  },
  {
   "cell_type": "code",
   "execution_count": 2,
   "id": "37f8ad0b",
   "metadata": {},
   "outputs": [
    {
     "data": {
      "text/plain": [
       "3.3333333333333335"
      ]
     },
     "execution_count": 2,
     "metadata": {},
     "output_type": "execute_result"
    }
   ],
   "source": [
    "#This will convert 200 minutes to hours by dividing by 60\n",
    "200/60"
   ]
  },
  {
   "cell_type": "markdown",
   "id": "68ed5397",
   "metadata": {},
   "source": [
    "## Author ##\n",
    "Danny P"
   ]
  },
  {
   "cell_type": "code",
   "execution_count": null,
   "id": "c2a4eb61",
   "metadata": {},
   "outputs": [],
   "source": []
  }
 ],
 "metadata": {
  "kernelspec": {
   "display_name": "Python 3 (ipykernel)",
   "language": "python",
   "name": "python3"
  },
  "language_info": {
   "codemirror_mode": {
    "name": "ipython",
    "version": 3
   },
   "file_extension": ".py",
   "mimetype": "text/x-python",
   "name": "python",
   "nbconvert_exporter": "python",
   "pygments_lexer": "ipython3",
   "version": "3.9.13"
  }
 },
 "nbformat": 4,
 "nbformat_minor": 5
}
